{
 "cells": [
  {
   "cell_type": "markdown",
   "metadata": {},
   "source": [
    "# Basic Encryption and Decryption - Old School\n",
    "\n",
    "My son wanted to create a simple Encryption using Python a few weeks ago. His idea was to write possible characters that are used in English on a paper (Originals) and then creating Encryption Key for them (ENC) randomly. After that, he created two lists that are shown below and dictionaries (E_ENC and E_DEC) for Encryption /Decryption keys. "
   ]
  },
  {
   "cell_type": "code",
   "execution_count": 10,
   "metadata": {},
   "outputs": [],
   "source": [
    "Original=  ['A','B','C','D','E','F','G','H','I','J','K','L','M','N','O','P','Q','R','S','T','U','V','W','X','Y','Z',\n",
    "            'a','b','c','d','e','f','g','h','i','j','k','l','m','n','o','p','q','r','s','t','u','v','w','x','y','z',\n",
    "            '0','1','2','3','4','5','6','7','8','9',' ', '$','%','@','!','~','^','&','*','+','-','?',',','.']\n",
    "\n",
    "ENC=       ['5','a','O','f','9','+','C','S','6','%','^','@','V','J','i','c','w','m','K','A','1','-','v','L','E','H',\n",
    "            '0','?','B','3','M','T','q','b','e','k','h','2','!','j','~','4','n','D','Q','Z','8','d','P','U','t','G',\n",
    "            'r','R','Y','l',' ','7','$','&','W','I','o','s','N','X','u','p','*','x','.','z',',','y','F','g']"
   ]
  },
  {
   "cell_type": "code",
   "execution_count": 11,
   "metadata": {},
   "outputs": [],
   "source": [
    "E_ENC = {Original[i]: ENC[i] for i in range(len(Original))} \n",
    "\n",
    "E_DEC = {ENC[i]: Original[i] for i in range(len(ENC))} "
   ]
  },
  {
   "cell_type": "code",
   "execution_count": null,
   "metadata": {},
   "outputs": [],
   "source": []
  },
  {
   "cell_type": "code",
   "execution_count": 15,
   "metadata": {},
   "outputs": [
    {
     "name": "stdout",
     "output_type": "stream",
     "text": [
      "AbeQoeQo0oPMeD3otM0DgoC~o0P0toOi-6f,RIou\n"
     ]
    }
   ],
   "source": [
    "t=[]\n",
    "Test='This is a weird year. Go away COVID-19 !'\n",
    "kk=list(Test)\n",
    "for i in kk:\n",
    "    t.append(E_ENC[i])\n",
    "res=''.join(t)\n",
    "print(res)"
   ]
  },
  {
   "cell_type": "code",
   "execution_count": 16,
   "metadata": {},
   "outputs": [
    {
     "name": "stdout",
     "output_type": "stream",
     "text": [
      "This is a weird year. Go away COVID-19 !\n"
     ]
    }
   ],
   "source": [
    "tt=[]\n",
    "mm=list(res)\n",
    "for i in mm:\n",
    "    tt.append(E_DEC[i])\n",
    "dec=''.join(tt)\n",
    "print(dec)"
   ]
  },
  {
   "cell_type": "code",
   "execution_count": 14,
   "metadata": {},
   "outputs": [],
   "source": [
    "# Remove # sign below and analyze E_ENC and E_DEC\n",
    "# E_ENC\n",
    "# E_DEC"
   ]
  }
 ],
 "metadata": {
  "kernelspec": {
   "display_name": "Python 3",
   "language": "python",
   "name": "python3"
  },
  "language_info": {
   "codemirror_mode": {
    "name": "ipython",
    "version": 3
   },
   "file_extension": ".py",
   "mimetype": "text/x-python",
   "name": "python",
   "nbconvert_exporter": "python",
   "pygments_lexer": "ipython3",
   "version": "3.6.9"
  }
 },
 "nbformat": 4,
 "nbformat_minor": 4
}
