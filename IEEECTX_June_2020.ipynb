{
 "cells": [
  {
   "cell_type": "markdown",
   "metadata": {},
   "source": [
    "# Basic Encryption and Decryption using Python\n",
    "\n",
    "When we send a message over a network in any format, it is possible that it can be captured by a third party intruder. This could be a problem if the message contains important information such as username, password, bank information, etc. This type of communication can be seen in Figure 1 below.  \n",
    "\n",
    "![Communication wothout Encryption](pic/Enc011.png)\n",
    "\n",
    "<center>Figure 1. Communication without Encryption/Decryption</center>\n",
    "&nbsp;\n",
    "\n",
    "One way to protect the information is by using encryption. Encryption is the process of converting a message (plaintext) into a meaningless message (ciphertext). Even if this ciphertext is captured by a third party (a culprit, etc.), it will be difficult to understand without the required information, such as a decryption key. After the receiver receives the ciphertext, the original message (plaintext) will be recovered using decryption. Decryption is the process of converting a meaningless message (ciphertext) back into its original form (plaintext). A basic communication scheme with encryption/decryption is shown in Figure 2 below.\n",
    "\n",
    "![GitHub Logo](pic/Enc02.png)\n",
    "\n",
    "<center>Figure 2. Communication with Encryption/Decryption</center>\n",
    "\n",
    "&nbsp;\n",
    "\n",
    "A simple encryption/decryption example is shown in Figure 3. A user registers on a website and enters his/her information. This information will be stored in a database but it will be encrypted before stored. This will create extra protection even if the database is hacked and all stored information is stolen. \n",
    "\n",
    "![GitHub Logo](pic/Enc03.png)\n",
    "\n",
    "<center>Figure 3. Encryption/Decryption usage example </center>"
   ]
  },
  {
   "cell_type": "markdown",
   "metadata": {},
   "source": [
    "# Part I - Simple Example\n",
    "\n",
    "In this section, we will use all lower case characters and numbers as the alphabet."
   ]
  },
  {
   "cell_type": "code",
   "execution_count": 487,
   "metadata": {},
   "outputs": [],
   "source": [
    "plaintext='hello there agent 007.' # our plaintext\n",
    "alphabet=list('abcedfghijklmnopqrstuvwxyz .,0123456789') # original characters \n",
    "\n",
    "# we want to shuffle the alphabet to create our Encryption key \n",
    "# we use a function for that. \n",
    "\n",
    "def mixed(x):\n",
    "    import random\n",
    "    a = x[:]\n",
    "    random.shuffle(a)\n",
    "    return a\n",
    "\n",
    "shuffled=mixed(alphabet)\n",
    "\n",
    "# now we have the alphabet and shuffled version\n",
    "# we can create our Encryption and Decryption keys (Python dictionaries)\n",
    "\n",
    "encr_level1 = dict(zip(alphabet, shuffled))\n",
    "decr_level1 = dict(zip(shuffled, alphabet))\n",
    "\n",
    "# please print and analyze them (just remove # below)\n",
    "\n",
    "\n",
    "#print(encr_level1)\n",
    "#print(decr_level1)"
   ]
  },
  {
   "cell_type": "code",
   "execution_count": 439,
   "metadata": {},
   "outputs": [],
   "source": [
    "# Now we can write our Encryption block as a function\n",
    "\n",
    "def encrp1(mes):\n",
    "    t=[]\n",
    "    kk=list(mes)\n",
    "    for i in kk:\n",
    "        t.append(encr_level1[i])\n",
    "    emes=''.join(t)\n",
    "    return emes"
   ]
  },
  {
   "cell_type": "code",
   "execution_count": 440,
   "metadata": {},
   "outputs": [
    {
     "name": "stdout",
     "output_type": "stream",
     "text": [
      "jbeecnajbwbnogbzanii5d\n"
     ]
    }
   ],
   "source": [
    "# Encrypt the plaintext\n",
    "\n",
    "plaintext='hello there agent 007.'  # original message\n",
    "ciphertext=encrp1(plaintext) # Encrypted message\n",
    "print(ciphertext)"
   ]
  },
  {
   "cell_type": "code",
   "execution_count": 441,
   "metadata": {},
   "outputs": [],
   "source": [
    "# Now we can write our Decryption block as a function\n",
    "\n",
    "def decrp1(emes):\n",
    "    t=[]\n",
    "    kk=list(emes)\n",
    "    for i in kk:\n",
    "        t.append(decr_level1[i])\n",
    "    dmes=''.join(t)\n",
    "    return dmes"
   ]
  },
  {
   "cell_type": "code",
   "execution_count": 442,
   "metadata": {},
   "outputs": [
    {
     "name": "stdout",
     "output_type": "stream",
     "text": [
      "hello there agent 007.\n"
     ]
    }
   ],
   "source": [
    "# Decrypt the ciphertext to receive our plaintext\n",
    "\n",
    "original_message=decrp1(ciphertext)\n",
    "print(original_message)"
   ]
  },
  {
   "cell_type": "markdown",
   "metadata": {},
   "source": [
    "# Part II - All possible characters in a keyboard\n",
    "\n",
    "In this section, we will use all possible characters as our alphabet. This could be done easily using Python's ```string``` module."
   ]
  },
  {
   "cell_type": "code",
   "execution_count": 489,
   "metadata": {},
   "outputs": [
    {
     "name": "stdout",
     "output_type": "stream",
     "text": [
      "GL^YM#MU^7^zX:0#z:Mc^%dov%^cMU0#Mp\n"
     ]
    }
   ],
   "source": [
    "#encr_level1\n",
    "import string\n",
    "\n",
    "alphabet=list(string.printable) # this will get all possible characters\n",
    "\n",
    "#print(alphabet)\n",
    "\n",
    "shuffled=mixed(alphabet) # shuffles the alphabet \n",
    "\n",
    "# we can create our new Encryption and Decryption dictionary blocks\n",
    "\n",
    "encr_level1 = dict(zip(alphabet, shuffled))\n",
    "decr_level1 = dict(zip(shuffled, alphabet))\n",
    "\n",
    "# using the same functions above we can encrypt more complicated messages\n",
    "message='Hello agent 007. The next mission: Level 3 activated #0$%# deliver'\n",
    "\n",
    "ciphertext=encrp1(message) # Encrypted message\n",
    "#print(ciphertext)\n",
    "\n",
    "original_message=decrp1(ciphertext)\n",
    "#print(original_message)\n"
   ]
  },
  {
   "cell_type": "markdown",
   "metadata": {},
   "source": [
    "# Part III - More than one character to create ciphertext\n",
    "\n",
    "When we encrypt ```Hello``` for example, our ciphertext appears as ```3azzm```. Whenever we use ```encr_level1``` to encode ```Hello``` we will get the same ciphertext```3azzm```. In addition, ```l``` will always be ```z```, and that makes it easy to crack this code. Now we will use three different characters to represent letters in ```plaintext```.  \n",
    "\n",
    "For example, let's assume we have our alphabet ```['A','B','C']``` and we want to encode ```A``` as either ```S``` or ```M```, ```B``` as either ```R``` or ```T```, and ```C``` as either ```J``` or ```O```. "
   ]
  },
  {
   "cell_type": "code",
   "execution_count": 448,
   "metadata": {},
   "outputs": [
    {
     "name": "stdout",
     "output_type": "stream",
     "text": [
      "{'A': ['S', 'M'], 'B': ['R', 'T'], 'C': ['J', 'O']}\n",
      "{'S': 'A', 'R': 'B', 'J': 'C'}\n",
      "{'M': 'A', 'T': 'B', 'O': 'C'}\n"
     ]
    }
   ],
   "source": [
    "alphabet=['A','B','C']\n",
    "shuffled=[['S','M'],['R','T'],['J','O']]\n",
    "EE = dict(zip(alphabet,shuffled)) # Encryption dictionary\n",
    "DD1=dict(zip([row[0] for row in shuffled], alphabet)) # Decryption dictionary I\n",
    "DD2=dict(zip([row[1] for row in shuffled], alphabet)) # Decryption dictionary II\n",
    "print(EE)\n",
    "print(DD1)\n",
    "print(DD2)"
   ]
  },
  {
   "cell_type": "code",
   "execution_count": 455,
   "metadata": {},
   "outputs": [],
   "source": [
    "# Now using this idea we will create three different shuffled and Decryption dictionary\n",
    "import random\n",
    "import string\n",
    "\n",
    "def mixed(x):\n",
    "    import random\n",
    "    a = x[:]\n",
    "    random.shuffle(a)\n",
    "    return a\n",
    "\n",
    "alphabet=list(string.printable) # this will get all possible characters\n",
    "\n",
    "shuffled=mixed(alphabet) # shuffle alphabet \n",
    "res = random.sample(range(227, 350),len(alphabet)) \n",
    "res1 = random.sample(range(351, 458),len(alphabet))\n",
    "\n",
    "B=[[i,chr(j),chr(r)] for i,j,r in zip(shuffled,res,res1)]\n",
    "#print(B)\n",
    "EE = dict(zip(alphabet,B))\n",
    "DD1=dict(zip([row[0] for row in B], alphabet))\n",
    "DD2=dict(zip([row[1] for row in B], alphabet))\n",
    "DD3=dict(zip([row[2] for row in B], alphabet))\n",
    "\n",
    "def encrp2(emes):\n",
    "    t=[]\n",
    "    kk=list(emes)\n",
    "    for i in kk:\n",
    "        t.append(random.choice(random.choice(list(EE[i]))))\n",
    "    emes=''.join(t)\n",
    "    return emes\n",
    "\n",
    "def decrp2(mes):\n",
    "    t=[]\n",
    "    kk=list(mes)\n",
    "    for i in kk:\n",
    "        if i in DD1.keys():\n",
    "            t.append(DD1[i])\n",
    "        elif i in DD2.keys():\n",
    "            t.append(DD2[i])\n",
    "        else:\n",
    "            t.append(DD3[i])\n",
    "    dmes=''.join(t)\n",
    "    return dmes"
   ]
  },
  {
   "cell_type": "code",
   "execution_count": 459,
   "metadata": {},
   "outputs": [
    {
     "name": "stdout",
     "output_type": "stream",
     "text": [
      "ÿ1ňǆñy\\ŏǂpƪƁVVĥĆyêŸǂyæ1Ŝ+y[Ʈ..ŕñƜƖyşǂĤǂǆƁ7ŌóĠĀQ^\\Ā1ăŌ)ĉƅòƟyăǂvŕĤ÷\t\n",
      "Hello agent 007. The next mission: Level 3 activated #0$%# deliver\n"
     ]
    }
   ],
   "source": [
    "message='Hello agent 007. The next mission: Level 3 activated #0$%# deliver'\n",
    "\n",
    "ciphertext=encrp2(message) # Encrypted message\n",
    "print(ciphertext)\n",
    "\n",
    "original_message=decrp2(ciphertext)\n",
    "print(original_message)"
   ]
  },
  {
   "cell_type": "markdown",
   "metadata": {},
   "source": [
    "###############\n",
    "\n",
    "In the example above, ```Hello``` is encoded as ```P1ňǆƦ```. If we run the above cell we will get different ciphertext. ```Hello``` is now ```ƽ÷ǆňM``` and again ```ÿ1ňǆñ```. Also, you can see that letter ```l``` is different for all cases above. "
   ]
  },
  {
   "cell_type": "markdown",
   "metadata": {},
   "source": [
    "# Part IV - Using a file  \n",
    "\n",
    "Assume that you want to send a text file and want to make sure that it is encrypted. This could also be a username/password file, etc. Our file name is ```test.txt```. \n"
   ]
  },
  {
   "cell_type": "code",
   "execution_count": 470,
   "metadata": {},
   "outputs": [
    {
     "name": "stdout",
     "output_type": "stream",
     "text": [
      "This is time to write down a list of activities you and your family want to do this summer. \n",
      "This is an exercise that will free you from the limits of your four walls. \n",
      "Number your list from one to however far you get and maybe even write it \n",
      "down on actual paper.\n",
      "This is not a homework assignment. Get the first few ideas out. Now keep going, \n",
      "because that's when the ideas get ridiculous and really fun.\n",
      "Want to walk on the moon? Write it down. Want to play Quidditch with J.K. Rowling? \n"
     ]
    }
   ],
   "source": [
    "f = open(\"test.txt\", \"r\")\n",
    "message=f.read()\n",
    "f.close()\n",
    "print(message)"
   ]
  },
  {
   "cell_type": "code",
   "execution_count": 471,
   "metadata": {},
   "outputs": [
    {
     "name": "stdout",
     "output_type": "stream",
     "text": [
      "i5Q.yQŋƁ+Ʈķ÷ŌƪƦƁćƗƮĀ1ŌŨñćpŌóyǆƮŋĀyñžƁƷ;ƪƮĤƮƪŕ1ŋŌFMƒƁ\\æ!yŷñƒěƁsƷƛŕǆĜƁ0ópĀŌ+ƦƁ!ñƁƪŸŕŋŌ.ƒ[ķǂ\tŰŌƳêŸƮƚyƮƚyóƜŌ÷ƀǂ\tĠŕƚǂƁƪ5óƪƁƨŕvňƁžě1ǂƁŷMƒƁžěƦ[ƁƪŸ1ƁvQķƮƪŋyƦsŌŷMƒěƁsƦøƗƁćóǆňƚ6Ɓhn/ƛĢ÷ěŌFM/\tŌǆQ.+ŌûƗƦķyƦæ1ŌĀMƁ5Ʀ0÷ůǂƗŌsƷ\tƁFñƒƁBǂƪƁóæŨyƛóĜĢ÷y÷Ĥ÷ƜyƨěQĀǂƁQĀŌîŨñ0pyƦæyƷƍĀøƷvŌīóī÷\tŰƳi5ŕ.Ōŕ.ypMĀŌóŌ5Ʀ[÷0ñƗƐy\\ŋ.ƮBæƛǂp+6Ɓǁ1ƪŌ+Ÿ1yžŕěƚ+ys÷ƨyQă÷\\ŋƁñƒƪĆƁŪñćŌƐ1÷qƁƺMQpBƈyîƿ÷Ġóƒƚ1Ōƪ5ƷĀïŋƁƨŀ1ƜŌƪŀǂŌŕ!ǂóƚyŏ÷ƪyěŕ!ŕƍ/vMƒŋy\\æăŌě÷\\vǆFŌs/Ɯ6hżópƪƁƪñƁƨƷňƐŌMæŌƪŸ1ŌķñƦpĝyņěƮ+÷ƁƮ+yăMƨƜĆŌEóæĀyĀñŌŶvóĜŌŗƒŕŨăƮĀĠŀŌćŕƪŀƁè6ƧŰŌ=ñ0ňQpŏ\f",
      "Ɓ\n"
     ]
    }
   ],
   "source": [
    "ciphertext=encrp2(message) # Encrypted message\n",
    "print(ciphertext)"
   ]
  },
  {
   "cell_type": "code",
   "execution_count": 472,
   "metadata": {},
   "outputs": [],
   "source": [
    "with open('Text_enc.txt','w') as outF:    \n",
    "    outF.write(ciphertext)"
   ]
  },
  {
   "cell_type": "code",
   "execution_count": null,
   "metadata": {},
   "outputs": [],
   "source": []
  },
  {
   "cell_type": "code",
   "execution_count": 473,
   "metadata": {},
   "outputs": [
    {
     "name": "stdout",
     "output_type": "stream",
     "text": [
      "i5Q.yQŋƁ+Ʈķ÷ŌƪƦƁćƗƮĀ1ŌŨñćpŌóyǆƮŋĀyñžƁƷ;ƪƮĤƮƪŕ1ŋŌFMƒƁ\\æ!yŷñƒěƁsƷƛŕǆĜƁ0ópĀŌ+ƦƁ!ñƁƪŸŕŋŌ.ƒ[ķǂ\tŰŌƳêŸƮƚyƮƚyóƜŌ÷ƀǂ\tĠŕƚǂƁƪ5óƪƁƨŕvňƁžě1ǂƁŷMƒƁžěƦ[ƁƪŸ1ƁvQķƮƪŋyƦsŌŷMƒěƁsƦøƗƁćóǆňƚ6Ɓhn/ƛĢ÷ěŌFM/\tŌǆQ.+ŌûƗƦķyƦæ1ŌĀMƁ5Ʀ0÷ůǂƗŌsƷ\tƁFñƒƁBǂƪƁóæŨyƛóĜĢ÷y÷Ĥ÷ƜyƨěQĀǂƁQĀŌîŨñ0pyƦæyƷƍĀøƷvŌīóī÷\tŰƳi5ŕ.Ōŕ.ypMĀŌóŌ5Ʀ[÷0ñƗƐy\\ŋ.ƮBæƛǂp+6Ɓǁ1ƪŌ+Ÿ1yžŕěƚ+ys÷ƨyQă÷\\ŋƁñƒƪĆƁŪñćŌƐ1÷qƁƺMQpBƈyîƿ÷Ġóƒƚ1Ōƪ5ƷĀïŋƁƨŀ1ƜŌƪŀǂŌŕ!ǂóƚyŏ÷ƪyěŕ!ŕƍ/vMƒŋy\\æăŌě÷\\vǆFŌs/Ɯ6hżópƪƁƪñƁƨƷňƐŌMæŌƪŸ1ŌķñƦpĝyņěƮ+÷ƁƮ+yăMƨƜĆŌEóæĀyĀñŌŶvóĜŌŗƒŕŨăƮĀĠŀŌćŕƪŀƁè6ƧŰŌ=ñ0ňQpŏ\f",
      "Ɓ\n"
     ]
    }
   ],
   "source": [
    "f = open(\"Text_enc.txt\", \"r\")\n",
    "message=f.read()\n",
    "f.close()\n",
    "print(message)"
   ]
  },
  {
   "cell_type": "code",
   "execution_count": 474,
   "metadata": {},
   "outputs": [
    {
     "name": "stdout",
     "output_type": "stream",
     "text": [
      "This is time to write down a list of activities you and your family want to do this summer. \n",
      "This is an exercise that will free you from the limits of your four walls. \n",
      "Number your list from one to however far you get and maybe even write it \n",
      "down on actual paper.\n",
      "This is not a homework assignment. Get the first few ideas out. Now keep going, \n",
      "because that's when the ideas get ridiculous and really fun.\n",
      "Want to walk on the moon? Write it down. Want to play Quidditch with J.K. Rowling? \n"
     ]
    }
   ],
   "source": [
    "original_message=decrp2(ciphertext)\n",
    "print(original_message)"
   ]
  }
 ],
 "metadata": {
  "kernelspec": {
   "display_name": "Python 3",
   "language": "python",
   "name": "python3"
  },
  "language_info": {
   "codemirror_mode": {
    "name": "ipython",
    "version": 3
   },
   "file_extension": ".py",
   "mimetype": "text/x-python",
   "name": "python",
   "nbconvert_exporter": "python",
   "pygments_lexer": "ipython3",
   "version": "3.6.9"
  }
 },
 "nbformat": 4,
 "nbformat_minor": 4
}
